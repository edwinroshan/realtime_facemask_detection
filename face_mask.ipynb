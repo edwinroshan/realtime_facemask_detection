{
 "cells": [
  {
   "cell_type": "code",
   "execution_count": 1,
   "id": "4215adca-30f2-42b6-883e-e7c78090eed8",
   "metadata": {},
   "outputs": [
    {
     "name": "stdout",
     "output_type": "stream",
     "text": [
      "Requirement already satisfied: kaggle in c:\\users\\user\\anaconda3\\lib\\site-packages (1.5.13)\n",
      "Requirement already satisfied: requests in c:\\users\\user\\anaconda3\\lib\\site-packages (from kaggle) (2.28.1)\n",
      "Requirement already satisfied: tqdm in c:\\users\\user\\anaconda3\\lib\\site-packages (from kaggle) (4.64.1)\n",
      "Requirement already satisfied: python-slugify in c:\\users\\user\\anaconda3\\lib\\site-packages (from kaggle) (5.0.2)\n",
      "Requirement already satisfied: six>=1.10 in c:\\users\\user\\anaconda3\\lib\\site-packages (from kaggle) (1.16.0)\n",
      "Requirement already satisfied: urllib3 in c:\\users\\user\\anaconda3\\lib\\site-packages (from kaggle) (1.26.14)\n",
      "Requirement already satisfied: python-dateutil in c:\\users\\user\\anaconda3\\lib\\site-packages (from kaggle) (2.8.2)\n",
      "Requirement already satisfied: certifi in c:\\users\\user\\anaconda3\\lib\\site-packages (from kaggle) (2023.5.7)\n",
      "Requirement already satisfied: text-unidecode>=1.3 in c:\\users\\user\\anaconda3\\lib\\site-packages (from python-slugify->kaggle) (1.3)\n",
      "Requirement already satisfied: idna<4,>=2.5 in c:\\users\\user\\anaconda3\\lib\\site-packages (from requests->kaggle) (3.4)\n",
      "Requirement already satisfied: charset-normalizer<3,>=2 in c:\\users\\user\\anaconda3\\lib\\site-packages (from requests->kaggle) (2.0.4)\n",
      "Requirement already satisfied: colorama in c:\\users\\user\\anaconda3\\lib\\site-packages (from tqdm->kaggle) (0.4.6)\n"
     ]
    }
   ],
   "source": [
    "!pip install kaggle"
   ]
  },
  {
   "cell_type": "code",
   "execution_count": 2,
   "id": "7ff57d0e-c81a-4d75-b1e9-03eabd8edc64",
   "metadata": {},
   "outputs": [
    {
     "name": "stdout",
     "output_type": "stream",
     "text": [
      "Requirement already satisfied: opendatasets in c:\\users\\user\\anaconda3\\lib\\site-packages (0.1.22)\n",
      "Requirement already satisfied: kaggle in c:\\users\\user\\anaconda3\\lib\\site-packages (from opendatasets) (1.5.13)\n",
      "Requirement already satisfied: tqdm in c:\\users\\user\\anaconda3\\lib\\site-packages (from opendatasets) (4.64.1)\n",
      "Requirement already satisfied: click in c:\\users\\user\\anaconda3\\lib\\site-packages (from opendatasets) (8.0.4)\n",
      "Requirement already satisfied: colorama in c:\\users\\user\\anaconda3\\lib\\site-packages (from click->opendatasets) (0.4.6)\n",
      "Requirement already satisfied: urllib3 in c:\\users\\user\\anaconda3\\lib\\site-packages (from kaggle->opendatasets) (1.26.14)\n",
      "Requirement already satisfied: certifi in c:\\users\\user\\anaconda3\\lib\\site-packages (from kaggle->opendatasets) (2023.5.7)\n",
      "Requirement already satisfied: python-dateutil in c:\\users\\user\\anaconda3\\lib\\site-packages (from kaggle->opendatasets) (2.8.2)\n",
      "Requirement already satisfied: requests in c:\\users\\user\\anaconda3\\lib\\site-packages (from kaggle->opendatasets) (2.28.1)\n",
      "Requirement already satisfied: six>=1.10 in c:\\users\\user\\anaconda3\\lib\\site-packages (from kaggle->opendatasets) (1.16.0)\n",
      "Requirement already satisfied: python-slugify in c:\\users\\user\\anaconda3\\lib\\site-packages (from kaggle->opendatasets) (5.0.2)\n",
      "Requirement already satisfied: text-unidecode>=1.3 in c:\\users\\user\\anaconda3\\lib\\site-packages (from python-slugify->kaggle->opendatasets) (1.3)\n",
      "Requirement already satisfied: idna<4,>=2.5 in c:\\users\\user\\anaconda3\\lib\\site-packages (from requests->kaggle->opendatasets) (3.4)\n",
      "Requirement already satisfied: charset-normalizer<3,>=2 in c:\\users\\user\\anaconda3\\lib\\site-packages (from requests->kaggle->opendatasets) (2.0.4)\n"
     ]
    }
   ],
   "source": [
    "!pip install opendatasets"
   ]
  },
  {
   "cell_type": "code",
   "execution_count": 3,
   "id": "64ac83be-d749-4b73-9996-13faaf2c4524",
   "metadata": {},
   "outputs": [],
   "source": [
    "import opendatasets as od\n"
   ]
  },
  {
   "cell_type": "code",
   "execution_count": 4,
   "id": "6d456127-c374-474a-a84f-763f1238e36c",
   "metadata": {},
   "outputs": [
    {
     "name": "stdout",
     "output_type": "stream",
     "text": [
      "Skipping, found downloaded files in \".\\face-mask-dataset\" (use force=True to force download)\n"
     ]
    }
   ],
   "source": [
    "od.download(\"https://www.kaggle.com/datasets/omkargurav/face-mask-dataset\")"
   ]
  },
  {
   "cell_type": "code",
   "execution_count": 5,
   "id": "51ab73f8-76de-466a-baca-bff2c3d1c4aa",
   "metadata": {},
   "outputs": [],
   "source": [
    "import os\n"
   ]
  },
  {
   "cell_type": "code",
   "execution_count": 6,
   "id": "ab901c83-4644-46f2-92b9-b19dfb7cb916",
   "metadata": {},
   "outputs": [
    {
     "data": {
      "text/plain": [
       "['.ipynb_checkpoints',\n",
       " 'digit_recognization.py',\n",
       " 'face-mask-dataset',\n",
       " 'face_mask.ipynb',\n",
       " 'haarcascade_frontalface_default.xml',\n",
       " 'kaggle.json',\n",
       " 'Untitled.ipynb']"
      ]
     },
     "execution_count": 6,
     "metadata": {},
     "output_type": "execute_result"
    }
   ],
   "source": [
    "os.listdir()\n"
   ]
  },
  {
   "cell_type": "code",
   "execution_count": 7,
   "id": "b1f01224-9f69-414d-9859-8c0fd51d73ae",
   "metadata": {},
   "outputs": [],
   "source": [
    "import os\n",
    "import numpy as np\n",
    "import matplotlib.pyplot as plt\n",
    "import matplotlib.image as mping\n",
    "import cv2\n",
    "from PIL import Image\n",
    "from sklearn.model_selection import train_test_split"
   ]
  },
  {
   "cell_type": "code",
   "execution_count": 8,
   "id": "cfc5f9f8-0b82-4e88-8c86-1b9c3e5d45e9",
   "metadata": {},
   "outputs": [
    {
     "name": "stdout",
     "output_type": "stream",
     "text": [
      "['with_mask_1.jpg', 'with_mask_10.jpg', 'with_mask_100.jpg', 'with_mask_1000.jpg', 'with_mask_1001.jpg']\n"
     ]
    }
   ],
   "source": [
    "with_mask_files = os.listdir('C:\\\\Users\\\\user\\\\Desktop\\\\python\\\\project\\\\face-mask-dataset\\\\data\\\\with_mask')\n",
    "print(with_mask_files[0:5])"
   ]
  },
  {
   "cell_type": "code",
   "execution_count": 9,
   "id": "86d4bd10-650b-4f78-afc6-5e0ff44ae69e",
   "metadata": {},
   "outputs": [
    {
     "name": "stdout",
     "output_type": "stream",
     "text": [
      "['without_mask_1.jpg', 'without_mask_10.jpg', 'without_mask_100.jpg', 'without_mask_1000.jpg', 'without_mask_1001.jpg']\n"
     ]
    }
   ],
   "source": [
    "without_mask_files = os.listdir(r'C:\\Users\\user\\Desktop\\python\\project\\face-mask-dataset\\data\\without_mask')\n",
    "print(without_mask_files[0:5])"
   ]
  },
  {
   "cell_type": "code",
   "execution_count": 10,
   "id": "751c3439-34b7-4ba3-be9e-9129f403718f",
   "metadata": {},
   "outputs": [],
   "source": [
    "with_mask_labels = [1]*3725\n",
    "without_mask_labels = [0]*3828"
   ]
  },
  {
   "cell_type": "code",
   "execution_count": 11,
   "id": "a666243e-1220-46ab-8d7e-791f1b7e4106",
   "metadata": {},
   "outputs": [
    {
     "name": "stdout",
     "output_type": "stream",
     "text": [
      "7553\n"
     ]
    }
   ],
   "source": [
    "labels = with_mask_labels + without_mask_labels\n",
    "print(len(labels))\n"
   ]
  },
  {
   "cell_type": "code",
   "execution_count": 12,
   "id": "7388e5f2-c7a2-4eb8-86d8-d9c3d642b55f",
   "metadata": {},
   "outputs": [
    {
     "name": "stderr",
     "output_type": "stream",
     "text": [
      "C:\\Users\\user\\anaconda3\\lib\\site-packages\\PIL\\Image.py:996: UserWarning: Palette images with Transparency expressed in bytes should be converted to RGBA images\n",
      "  warnings.warn(\n"
     ]
    }
   ],
   "source": [
    "with_mask_path = 'C:\\\\Users\\\\user\\\\Desktop\\\\python\\\\project\\\\face-mask-dataset\\\\data\\\\with_mask\\\\'\n",
    "data = []\n",
    "for img_file in with_mask_files:\n",
    "  image = Image.open(with_mask_path + img_file)\n",
    "  image = image.resize((128,128))\n",
    "  image = image.convert('RGB')\n",
    "  image = np.array(image)\n",
    "  data.append(image)\n",
    "\n",
    "without_mask_path = 'C:\\\\Users\\\\user\\\\Desktop\\\\python\\\\project\\\\face-mask-dataset\\\\data\\\\without_mask\\\\'\n",
    "\n",
    "for img_file in without_mask_files:\n",
    "  image = Image.open(without_mask_path + img_file)\n",
    "  image = image.resize((128,128))\n",
    "  image = image.convert('RGB')\n",
    "  image = np.array(image)\n",
    "  data.append(image)"
   ]
  },
  {
   "cell_type": "code",
   "execution_count": 13,
   "id": "a3134141-3be8-46aa-ae39-74a8fd8e19b4",
   "metadata": {},
   "outputs": [],
   "source": [
    "X = np.array(data)\n",
    "Y = np.array(labels)"
   ]
  },
  {
   "cell_type": "code",
   "execution_count": 14,
   "id": "f654f62f-ba52-4e22-8bc0-8768e3610e40",
   "metadata": {},
   "outputs": [],
   "source": [
    "X_train, X_test, Y_train, Y_test = train_test_split(X, Y, test_size=0.2, random_state=2)"
   ]
  },
  {
   "cell_type": "code",
   "execution_count": 15,
   "id": "cecd0d88-31f8-41c2-a892-0242a437e161",
   "metadata": {},
   "outputs": [],
   "source": [
    "X_train_scaled = X_train/255\n",
    "X_test_scaled = X_test/255"
   ]
  },
  {
   "cell_type": "code",
   "execution_count": 16,
   "id": "93c3dd22-6980-440d-9918-e0908025dfb1",
   "metadata": {},
   "outputs": [],
   "source": [
    "import tensorflow as tf\n",
    "from tensorflow import keras"
   ]
  },
  {
   "cell_type": "code",
   "execution_count": 17,
   "id": "7a51f92c-3972-4d08-891a-f060ebf28a2a",
   "metadata": {},
   "outputs": [],
   "source": [
    "num_of_classes = 2\n",
    "\n",
    "model = keras.Sequential()\n",
    "\n",
    "model.add(keras.layers.Conv2D(32, kernel_size=(3,3), activation='relu', input_shape=(128,128,3)))\n",
    "model.add(keras.layers.MaxPooling2D(pool_size=(2,2)))\n",
    "\n",
    "model.add(keras.layers.Conv2D(64, kernel_size=(3,3), activation='relu'))\n",
    "model.add(keras.layers.MaxPooling2D(pool_size=(2,2)))\n",
    "#converting to vector\n",
    "model.add(keras.layers.Flatten())\n",
    "model.add(keras.layers.Dense(128, activation='relu'))\n",
    "model.add(keras.layers.Dropout(0.5))\n",
    "\n",
    "model.add(keras.layers.Dense(64, activation='relu'))\n",
    "model.add(keras.layers.Dropout(0.5))\n",
    "\n",
    "model.add(keras.layers.Dense(num_of_classes, activation='sigmoid'))"
   ]
  },
  {
   "cell_type": "code",
   "execution_count": 18,
   "id": "275a7862-6a89-4939-89ba-1e730e92badb",
   "metadata": {},
   "outputs": [],
   "source": [
    "model.compile(optimizer='adam',\n",
    "              loss='sparse_categorical_crossentropy',\n",
    "              metrics=['acc'])"
   ]
  },
  {
   "cell_type": "code",
   "execution_count": 19,
   "id": "1d915b7c-4b66-4466-89cb-9ef9fa43d766",
   "metadata": {},
   "outputs": [
    {
     "name": "stdout",
     "output_type": "stream",
     "text": [
      "Epoch 1/5\n",
      "170/170 [==============================] - 65s 366ms/step - loss: 0.4277 - acc: 0.8118 - val_loss: 0.2711 - val_acc: 0.8860\n",
      "Epoch 2/5\n",
      "170/170 [==============================] - 58s 343ms/step - loss: 0.2923 - acc: 0.8920 - val_loss: 0.2478 - val_acc: 0.8959\n",
      "Epoch 3/5\n",
      "170/170 [==============================] - 58s 342ms/step - loss: 0.2298 - acc: 0.9132 - val_loss: 0.2119 - val_acc: 0.9306\n",
      "Epoch 4/5\n",
      "170/170 [==============================] - 58s 342ms/step - loss: 0.1932 - acc: 0.9240 - val_loss: 0.1919 - val_acc: 0.9388\n",
      "Epoch 5/5\n",
      "170/170 [==============================] - 57s 337ms/step - loss: 0.1613 - acc: 0.9393 - val_loss: 0.1802 - val_acc: 0.9438\n"
     ]
    }
   ],
   "source": [
    "history = model.fit(X_train_scaled, Y_train, validation_split=0.1, epochs=5)"
   ]
  },
  {
   "cell_type": "code",
   "execution_count": 20,
   "id": "0148c1b7-3b76-4843-9007-957efdccfd26",
   "metadata": {},
   "outputs": [
    {
     "name": "stdout",
     "output_type": "stream",
     "text": [
      "48/48 [==============================] - 4s 84ms/step - loss: 0.1675 - acc: 0.9265\n",
      "Test Accuracy = 0.9265387058258057\n"
     ]
    }
   ],
   "source": [
    "loss, accuracy = model.evaluate(X_test_scaled, Y_test)\n",
    "print('Test Accuracy =', accuracy)"
   ]
  },
  {
   "cell_type": "code",
   "execution_count": 21,
   "id": "0228149f-3f2b-441f-944e-9be9156c5e0d",
   "metadata": {},
   "outputs": [
    {
     "data": {
      "image/png": "[encoded data removed]",
      "text/plain": [
       "<Figure size 640x480 with 1 Axes>"
      ]
     },
     "metadata": {},
     "output_type": "display_data"
    },
    {
     "data": {
      "image/png": "[encoded data removed]",
      "text/plain": [
       "<Figure size 640x480 with 1 Axes>"
      ]
     },
     "metadata": {},
     "output_type": "display_data"
    }
   ],
   "source": [
    "h = history\n",
    "plt.plot(h.history['loss'], label='train loss')\n",
    "plt.plot(h.history['val_loss'], label='validation loss')\n",
    "plt.legend()\n",
    "plt.show()\n",
    "\n",
    "plt.plot(h.history['acc'], label='train accuracy')\n",
    "plt.plot(h.history['val_acc'], label='validation accuracy')\n",
    "plt.legend()\n",
    "plt.show()"
   ]
  },
  {
   "cell_type": "code",
   "execution_count": 23,
   "id": "d1da41f0-f5b1-47b9-92ef-acbc5e887ba7",
   "metadata": {},
   "outputs": [
    {
     "name": "stdout",
     "output_type": "stream",
     "text": [
      "1/1 [==============================] - 0s 69ms/step\n",
      "[[0.28326884 0.8035508 ]]\n",
      "1\n",
      "1/1 [==============================] - 0s 28ms/step\n",
      "[[0.32192025 0.7511438 ]]\n",
      "1\n",
      "1/1 [==============================] - 0s 39ms/step\n",
      "[[0.3307136  0.73912156]]\n",
      "1\n",
      "1/1 [==============================] - 0s 39ms/step\n",
      "[[0.29387116 0.79057306]]\n",
      "1\n",
      "1/1 [==============================] - 0s 55ms/step\n",
      "[[0.2896745 0.8007842]]\n",
      "1\n",
      "1/1 [==============================] - 0s 52ms/step\n",
      "[[0.27932397 0.80732596]]\n",
      "1\n",
      "1/1 [==============================] - 0s 45ms/step\n",
      "[[0.28129855 0.797426  ]]\n",
      "1\n",
      "1/1 [==============================] - 0s 34ms/step\n",
      "[[0.24538153 0.83561367]]\n",
      "1\n",
      "1/1 [==============================] - 0s 45ms/step\n",
      "[[0.246939   0.83728725]]\n",
      "1\n",
      "1/1 [==============================] - 0s 30ms/step\n",
      "[[0.22444403 0.85153896]]\n",
      "1\n",
      "1/1 [==============================] - 0s 72ms/step\n",
      "[[0.30292842 0.7727335 ]]\n",
      "1\n",
      "1/1 [==============================] - 0s 68ms/step\n",
      "[[0.28383076 0.79334456]]\n",
      "1\n",
      "1/1 [==============================] - 0s 77ms/step\n",
      "[[0.27282003 0.818728  ]]\n",
      "1\n",
      "1/1 [==============================] - 0s 72ms/step\n",
      "[[0.29593068 0.7858036 ]]\n",
      "1\n",
      "1/1 [==============================] - 0s 74ms/step\n",
      "[[0.2606338 0.8255142]]\n",
      "1\n",
      "1/1 [==============================] - 0s 34ms/step\n",
      "[[0.26105958 0.82533634]]\n",
      "1\n",
      "1/1 [==============================] - 0s 37ms/step\n",
      "[[0.30141148 0.76576   ]]\n",
      "1\n",
      "1/1 [==============================] - 0s 44ms/step\n",
      "[[0.25455934 0.83151877]]\n",
      "1\n",
      "1/1 [==============================] - 0s 30ms/step\n",
      "[[0.2643049 0.8169453]]\n",
      "1\n",
      "1/1 [==============================] - 0s 34ms/step\n",
      "[[0.29003242 0.78496355]]\n",
      "1\n",
      "1/1 [==============================] - 0s 42ms/step\n",
      "[[0.28716698 0.7984765 ]]\n",
      "1\n",
      "1/1 [==============================] - 0s 55ms/step\n",
      "[[0.27153328 0.8146551 ]]\n",
      "1\n",
      "1/1 [==============================] - 0s 30ms/step\n",
      "[[0.26380196 0.82514787]]\n",
      "1\n",
      "1/1 [==============================] - 0s 33ms/step\n",
      "[[0.28680426 0.7954934 ]]\n",
      "1\n",
      "1/1 [==============================] - 0s 28ms/step\n",
      "[[0.29188892 0.7907744 ]]\n",
      "1\n",
      "1/1 [==============================] - 0s 29ms/step\n",
      "[[0.29104468 0.7838718 ]]\n",
      "1\n",
      "1/1 [==============================] - 0s 38ms/step\n",
      "[[0.29391792 0.7825604 ]]\n",
      "1\n",
      "1/1 [==============================] - 0s 26ms/step\n",
      "[[0.27680624 0.7975432 ]]\n",
      "1\n",
      "1/1 [==============================] - 0s 39ms/step\n",
      "[[0.3006354 0.7717539]]\n",
      "1\n",
      "1/1 [==============================] - 0s 30ms/step\n",
      "[[0.30966488 0.76496613]]\n",
      "1\n",
      "1/1 [==============================] - 0s 33ms/step\n",
      "[[0.2817688 0.8042963]]\n",
      "1\n",
      "1/1 [==============================] - 0s 39ms/step\n",
      "[[0.3367702  0.73038423]]\n",
      "1\n",
      "1/1 [==============================] - 0s 52ms/step\n",
      "[[0.35443467 0.7045699 ]]\n",
      "1\n",
      "1/1 [==============================] - 0s 52ms/step\n",
      "[[0.37347722 0.6816908 ]]\n",
      "1\n",
      "1/1 [==============================] - 0s 33ms/step\n",
      "[[0.29088435 0.7795163 ]]\n",
      "1\n",
      "1/1 [==============================] - 0s 32ms/step\n",
      "[[0.28777006 0.7893385 ]]\n",
      "1\n",
      "1/1 [==============================] - 0s 62ms/step\n",
      "[[0.26879242 0.81016594]]\n",
      "1\n",
      "1/1 [==============================] - 0s 31ms/step\n",
      "[[0.29693875 0.77607423]]\n",
      "1\n",
      "1/1 [==============================] - 0s 30ms/step\n",
      "[[0.3247272 0.7444617]]\n",
      "1\n",
      "1/1 [==============================] - 0s 71ms/step\n",
      "[[0.35649562 0.7081777 ]]\n",
      "1\n",
      "1/1 [==============================] - 0s 85ms/step\n",
      "[[0.34662917 0.7131066 ]]\n",
      "1\n",
      "1/1 [==============================] - 0s 77ms/step\n",
      "[[0.3227085  0.72828895]]\n",
      "1\n",
      "1/1 [==============================] - 0s 77ms/step\n",
      "[[0.36428314 0.68400604]]\n",
      "1\n",
      "1/1 [==============================] - 0s 77ms/step\n",
      "[[0.35355997 0.69854206]]\n",
      "1\n",
      "Face is not detected\n",
      "1/1 [==============================] - 0s 75ms/step\n",
      "[[0.39118686 0.6499722 ]]\n",
      "1\n",
      "1/1 [==============================] - 0s 44ms/step\n",
      "[[0.3770389 0.6725159]]\n",
      "1\n",
      "1/1 [==============================] - 0s 32ms/step\n",
      "[[0.27561688 0.8043864 ]]\n",
      "1\n",
      "1/1 [==============================] - 0s 35ms/step\n",
      "[[0.27515265 0.8025967 ]]\n",
      "1\n",
      "1/1 [==============================] - 0s 35ms/step\n",
      "[[0.26088312 0.8290811 ]]\n",
      "1\n",
      "1/1 [==============================] - 0s 41ms/step\n",
      "[[0.2706758 0.8180927]]\n",
      "1\n",
      "1/1 [==============================] - 0s 34ms/step\n",
      "[[0.3578071 0.6997659]]\n",
      "1\n",
      "1/1 [==============================] - 0s 31ms/step\n",
      "[[0.31782952 0.75187534]]\n",
      "1\n",
      "1/1 [==============================] - 0s 31ms/step\n",
      "[[0.31369734 0.75767744]]\n",
      "1\n",
      "1/1 [==============================] - 0s 39ms/step\n",
      "[[0.2403706 0.8428127]]\n",
      "1\n",
      "1/1 [==============================] - 0s 68ms/step\n",
      "[[0.26501203 0.8195033 ]]\n",
      "1\n",
      "1/1 [==============================] - 0s 73ms/step\n",
      "[[0.2520931 0.8246585]]\n",
      "1\n",
      "1/1 [==============================] - 0s 70ms/step\n",
      "[[0.23883761 0.8413604 ]]\n",
      "1\n",
      "1/1 [==============================] - 0s 72ms/step\n",
      "[[0.30705947 0.7799948 ]]\n",
      "1\n",
      "1/1 [==============================] - 0s 71ms/step\n",
      "[[0.2764296  0.78637224]]\n",
      "1\n",
      "1/1 [==============================] - 0s 73ms/step\n",
      "[[0.30901864 0.76675755]]\n",
      "1\n",
      "Face is not detected\n",
      "1/1 [==============================] - 0s 73ms/step\n",
      "[[0.28742513 0.78014654]]\n",
      "1\n",
      "1/1 [==============================] - 0s 73ms/step\n",
      "[[0.23766854 0.8446931 ]]\n",
      "1\n",
      "Face is not detected\n",
      "1/1 [==============================] - 0s 92ms/step\n",
      "[[0.27465028 0.8008522 ]]\n",
      "1\n",
      "1/1 [==============================] - 0s 78ms/step\n",
      "[[0.26287392 0.8248078 ]]\n",
      "1\n",
      "1/1 [==============================] - 0s 66ms/step\n",
      "[[0.2827501  0.79150933]]\n",
      "1\n",
      "1/1 [==============================] - 0s 70ms/step\n",
      "[[0.26038918 0.82426256]]\n",
      "1\n",
      "1/1 [==============================] - 0s 67ms/step\n",
      "[[0.24428228 0.83825517]]\n",
      "1\n",
      "1/1 [==============================] - 0s 77ms/step\n",
      "[[0.28146905 0.79902697]]\n",
      "1\n",
      "1/1 [==============================] - 0s 64ms/step\n",
      "[[0.27436745 0.8100943 ]]\n",
      "1\n",
      "1/1 [==============================] - 0s 43ms/step\n",
      "[[0.25898948 0.8218754 ]]\n",
      "1\n",
      "1/1 [==============================] - 0s 30ms/step\n",
      "[[0.27152306 0.8119478 ]]\n",
      "1\n",
      "1/1 [==============================] - 0s 30ms/step\n",
      "[[0.24573825 0.8400803 ]]\n",
      "1\n",
      "1/1 [==============================] - 0s 36ms/step\n",
      "[[0.26015246 0.82397735]]\n",
      "1\n",
      "1/1 [==============================] - 0s 32ms/step\n",
      "[[0.23719385 0.8516    ]]\n",
      "1\n",
      "1/1 [==============================] - 0s 33ms/step\n",
      "[[0.2270478 0.8643691]]\n",
      "1\n",
      "1/1 [==============================] - 0s 32ms/step\n",
      "[[0.23194577 0.86136866]]\n",
      "1\n",
      "1/1 [==============================] - 0s 31ms/step\n",
      "[[0.20014302 0.8870157 ]]\n",
      "1\n",
      "1/1 [==============================] - 0s 35ms/step\n",
      "[[0.24905881 0.8457754 ]]\n",
      "1\n",
      "1/1 [==============================] - 0s 33ms/step\n",
      "[[0.23524554 0.8563714 ]]\n",
      "1\n",
      "1/1 [==============================] - 0s 37ms/step\n",
      "[[0.23781474 0.8536261 ]]\n",
      "1\n",
      "1/1 [==============================] - 0s 37ms/step\n",
      "[[0.24723281 0.8424848 ]]\n",
      "1\n",
      "1/1 [==============================] - 0s 33ms/step\n",
      "[[0.2814245 0.7943187]]\n",
      "1\n",
      "1/1 [==============================] - 0s 47ms/step\n",
      "[[0.2700288 0.8176929]]\n",
      "1\n",
      "1/1 [==============================] - 0s 36ms/step\n",
      "[[0.22560215 0.8606939 ]]\n",
      "1\n",
      "1/1 [==============================] - 0s 34ms/step\n",
      "[[0.23554127 0.84214336]]\n",
      "1\n",
      "1/1 [==============================] - 0s 30ms/step\n",
      "[[0.27854148 0.7975269 ]]\n",
      "1\n",
      "1/1 [==============================] - 0s 33ms/step\n",
      "[[0.2910593 0.7815711]]\n",
      "1\n",
      "1/1 [==============================] - 0s 32ms/step\n",
      "[[0.24252704 0.83988285]]\n",
      "1\n",
      "1/1 [==============================] - 0s 27ms/step\n",
      "[[0.2960816 0.7792296]]\n",
      "1\n",
      "1/1 [==============================] - 0s 36ms/step\n",
      "[[0.27962753 0.7915031 ]]\n",
      "1\n",
      "1/1 [==============================] - 0s 37ms/step\n",
      "[[0.28656197 0.7891877 ]]\n",
      "1\n",
      "1/1 [==============================] - 0s 53ms/step\n",
      "[[0.3141314 0.7598533]]\n",
      "1\n",
      "1/1 [==============================] - 0s 27ms/step\n",
      "[[0.27327585 0.8043905 ]]\n",
      "1\n",
      "1/1 [==============================] - 0s 36ms/step\n",
      "[[0.29395354 0.7856436 ]]\n",
      "1\n",
      "1/1 [==============================] - 0s 40ms/step\n",
      "[[0.32985908 0.7373506 ]]\n",
      "1\n",
      "1/1 [==============================] - 0s 37ms/step\n",
      "[[0.31955612 0.74958885]]\n",
      "1\n",
      "1/1 [==============================] - 0s 51ms/step\n",
      "[[0.30760872 0.75521153]]\n",
      "1\n"
     ]
    },
    {
     "ename": "KeyboardInterrupt",
     "evalue": "",
     "output_type": "error",
     "traceback": [
      "\u001b[1;31m---------------------------------------------------------------------------\u001b[0m",
      "\u001b[1;31mKeyboardInterrupt\u001b[0m                         Traceback (most recent call last)",
      "Cell \u001b[1;32mIn[23], line 25\u001b[0m\n\u001b[0;32m     22\u001b[0m \u001b[38;5;28;01mwhile\u001b[39;00m \u001b[38;5;28;01mTrue\u001b[39;00m:\n\u001b[0;32m     23\u001b[0m     (ret, input_image) \u001b[38;5;241m=\u001b[39m cap\u001b[38;5;241m.\u001b[39mread()\n\u001b[1;32m---> 25\u001b[0m     faceCascade \u001b[38;5;241m=\u001b[39m \u001b[43mcv2\u001b[49m\u001b[38;5;241;43m.\u001b[39;49m\u001b[43mCascadeClassifier\u001b[49m\u001b[43m(\u001b[49m\u001b[43mcv2\u001b[49m\u001b[38;5;241;43m.\u001b[39;49m\u001b[43mdata\u001b[49m\u001b[38;5;241;43m.\u001b[39;49m\u001b[43mhaarcascades\u001b[49m\u001b[43m \u001b[49m\u001b[38;5;241;43m+\u001b[39;49m\u001b[43m \u001b[49m\u001b[38;5;124;43m'\u001b[39;49m\u001b[38;5;124;43mhaarcascade_frontalface_default.xml\u001b[39;49m\u001b[38;5;124;43m'\u001b[39;49m\u001b[43m)\u001b[49m\n\u001b[0;32m     26\u001b[0m     gray \u001b[38;5;241m=\u001b[39m cv2\u001b[38;5;241m.\u001b[39mcvtColor(input_image, cv2\u001b[38;5;241m.\u001b[39mCOLOR_BGR2GRAY)\n\u001b[0;32m     27\u001b[0m     faces \u001b[38;5;241m=\u001b[39m faceCascade\u001b[38;5;241m.\u001b[39mdetectMultiScale(gray,\u001b[38;5;241m1.1\u001b[39m,\u001b[38;5;241m4\u001b[39m)\n",
      "\u001b[1;31mKeyboardInterrupt\u001b[0m: "
     ]
    }
   ],
   "source": [
    "import cv2\n",
    "path = \"C:\\\\Users\\\\user\\\\Desktop\\\\python\\\\project\\\\haarcascade_frontalface_default.xml\"\n",
    "font_scale = 1.5\n",
    "font = cv2.FONT_HERSHEY_PLAIN\n",
    "\n",
    "rectangle_bgr = (255, 255, 255)\n",
    "img = np.zeros((500,500))\n",
    "text = \"Some text in the box\"\n",
    "(text_width, text_height) = cv2.getTextSize(text, font, fontScale=font_scale, thickness=1)[0]\n",
    "text_offset_x = 10\n",
    "text_offset_y = img.shape[0] - 25\n",
    "box_coords =((text_offset_x, text_offset_y), (text_offset_x + text_width + 2, text_offset_y - text_height - 2))\n",
    "cv2.rectangle(img, box_coords[0], box_coords[1], rectangle_bgr, cv2.FILLED)\n",
    "cv2.putText(img, text, (text_offset_x, text_offset_y), font, fontScale=font_scale, color=(0,0,0), thickness = 1)\n",
    "\n",
    "cap = cv2.VideoCapture(0)\n",
    "if not cap.isOpened():\n",
    "    cap = cv2.VideoCapture(0)\n",
    "if not cap.isOpened():\n",
    "    raise IOError(\"Cannot open webcame\")\n",
    "\n",
    "while True:\n",
    "    (ret, input_image) = cap.read()\n",
    "    \n",
    "    faceCascade = cv2.CascadeClassifier(cv2.data.haarcascades + 'haarcascade_frontalface_default.xml')\n",
    "    gray = cv2.cvtColor(input_image, cv2.COLOR_BGR2GRAY)\n",
    "    faces = faceCascade.detectMultiScale(gray,1.1,4)\n",
    "    for x,y,w,h in faces:\n",
    "        roi_gray = gray[y:y+h, x:x+w]\n",
    "        roi_color = input_image[y:y+h, x:x+w]\n",
    "        cv2.rectangle(input_image, (x,y), (x+w, y+h), (255,0,0), 2)\n",
    "        facess = faceCascade.detectMultiScale(roi_gray)\n",
    "        if len(facess) == 0:\n",
    "            print('Face is not detected')\n",
    "            \n",
    "        else:\n",
    "            for (ex,ey,ew,eh) in facess:\n",
    "                face_roi = roi_color[ey: ey+eh, ex:ex +ew]\n",
    "\n",
    "                input_image_rezised = cv2.resize(face_roi, (128,128))\n",
    "                input_image_scaled = input_image_rezised/255\n",
    "                input_image_reshaped = np.reshape(input_image_scaled, [1,128,128,3])\n",
    "                input_prediction = model.predict(input_image_reshaped)\n",
    "                print(input_prediction)\n",
    "                prediction = np.argmax(input_prediction)\n",
    "                print(prediction)\n",
    "                \n",
    "    \n",
    "\n",
    "\n",
    "                font = cv2.FONT_HERSHEY_PLAIN\n",
    "                font_scale = 1.5\n",
    "  \n",
    "                if (prediction == 0):\n",
    "                    status = \"Face Mask\"\n",
    "    \n",
    "                    x1,y1,w1,h1 = 0,0,175,75\n",
    "                    cv2.rectangle(input_image, (x1, x1), (x1 + w1, y1 + h1), (0,0,0), -1)\n",
    "                    cv2.putText(input_image, status, (x1 + int(w1/10), int(h1/2)), cv2.FONT_HERSHEY_SIMPLEX, 0.7, (0,0,255), 2)\n",
    "                    cv2.putText(input_image, status,(100,150),font, 3,(0, 0, 255), 2, cv2.LINE_4)\n",
    "                    cv2.rectangle(input_image, (x, y), (x+w, y+h), (0, 255,0))\n",
    "                     \n",
    "                else:\n",
    "\n",
    "                    status = \"No Mask\"\n",
    "                    x1,y1,w1,h1 = 0,0,175,75\n",
    "                    cv2.rectangle(input_image, (x1, x1), (x1 + w1, y1 + h1), (0,0,0), -1)\n",
    "                    cv2.putText(input_image, status, (x1 + int(w1/10), int(h1/2)), cv2.FONT_HERSHEY_SIMPLEX, 0.7, (0,0,255), 2)\n",
    "                    cv2.putText(input_image, status,(100,150),font, 3,(0, 0, 255), 2, cv2.LINE_4)\n",
    "                    cv2.rectangle(input_image, (x, y), (x+w, y+h), (0, 255,0))\n",
    "                \n",
    "                cv2.imshow(\"Video\", input_image)\n",
    "                if cv2.waitKey(2) & 0xFF == ord('q'):\n",
    "                    break\n",
    "\n",
    "cap.release()\n",
    "cv2.destroyAllWindows()\n"
   ]
  },
  {
   "cell_type": "code",
   "execution_count": null,
   "id": "78978428-5ae8-4d65-80c1-20eab01d2431",
   "metadata": {},
   "outputs": [],
   "source": []
  },
  {
   "cell_type": "code",
   "execution_count": null,
   "id": "d6282b23-b14e-42b1-849a-224b2112c08e",
   "metadata": {},
   "outputs": [],
   "source": []
  },
  {
   "cell_type": "code",
   "execution_count": null,
   "id": "7f0ae156-6a61-4d5b-9ea9-c0c67e791f1e",
   "metadata": {},
   "outputs": [],
   "source": []
  },
  {
   "cell_type": "code",
   "execution_count": null,
   "id": "1bc8f0f2-f299-4158-baeb-8ef23b8f5d3b",
   "metadata": {},
   "outputs": [],
   "source": []
  }
 ],
 "metadata": {
  "kernelspec": {
   "display_name": "Python 3 (ipykernel)",
   "language": "python",
   "name": "python3"
  },
  "language_info": {
   "codemirror_mode": {
    "name": "ipython",
    "version": 3
   },
   "file_extension": ".py",
   "mimetype": "text/x-python",
   "name": "python",
   "nbconvert_exporter": "python",
   "pygments_lexer": "ipython3",
   "version": "3.10.9"
  }
 },
 "nbformat": 4,
 "nbformat_minor": 5
}
